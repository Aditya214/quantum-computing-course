{
 "cells": [
  {
   "cell_type": "markdown",
   "metadata": {
    "colab_type": "text",
    "id": "xeidxw0H3Rvj"
   },
   "source": [
    "**Please only run the following cell if you're running this notebook on Google colab or another cloud hosted notebook server.**"
   ]
  },
  {
   "cell_type": "code",
   "execution_count": null,
   "metadata": {
    "colab": {},
    "colab_type": "code",
    "id": "InCkNlo8VsEi"
   },
   "outputs": [],
   "source": [
    "!pip install qiskit"
   ]
  },
  {
   "cell_type": "markdown",
   "metadata": {
    "colab_type": "text",
    "id": "XcaDuzXbl_mL"
   },
   "source": [
    "# BB84 Quantum Key Distribution (QKD) Protocol\n",
    "\n",
    "This notebook is a _demonstration_ of the BB84 Protocol for QKD using Qiskit. \n",
    "BB84 is a quantum key distribution scheme developed by Charles Bennett and Gilles Brassard in 1984 ([paper]).\n",
    "The first three sections of the paper are readable and should give you all the necessary information required. \n",
    "\n",
    "[paper]: http://researcher.watson.ibm.com/researcher/files/us-bennetc/BB84highest.pdf \n"
   ]
  },
  {
   "cell_type": "code",
   "execution_count": null,
   "metadata": {
    "colab": {},
    "colab_type": "code",
    "id": "48Nq5dTpVtjb"
   },
   "outputs": [],
   "source": [
    "from qiskit import BasicAer\n",
    "from qiskit import QuantumCircuit, QuantumRegister, ClassicalRegister\n",
    "from qiskit import execute\n",
    "from qiskit import IBMQ\n",
    "\n",
    "\n",
    "from qiskit.tools.monitor import job_monitor\n",
    "%pylab inline"
   ]
  },
  {
   "cell_type": "markdown",
   "metadata": {
    "colab_type": "text",
    "id": "W_VfWIExmzbR"
   },
   "source": [
    "First we will simulate a noiseless quantum channel free from an eavesdropper. The qubit capabilites of the available backends are listed below:\n",
    "\n",
    "\n",
    "| Backend | Number of qubits |\n",
    "|----------|------------------|\n",
    "|qasm_simulator|24|\n",
    "|ibmq_qasm_simulator|32|\n",
    "|ibmqx4|5|\n",
    "|ibmqx2|5|\n",
    "|ibmq_16_melbourne|14|\n",
    "\n",
    "## Choosing bases and encoding states\n",
    "\n",
    "Alice generates two binary strings. One encodes the basis for each qubit:\n",
    "\n",
    "$0 \\rightarrow$ Computational basis\n",
    "\n",
    "$1  \\rightarrow$ Hadamard basis\n",
    "\n",
    "The other encodes the state:\n",
    "\n",
    "$0  \\rightarrow|0\\rangle$ or $|+\\rangle $ \n",
    "\n",
    "$1  \\rightarrow|1\\rangle$  or  $|-\\rangle $ \n",
    "\n",
    "Bob also generates a binary string and uses the same convention to choose a basis for measurement\n"
   ]
  },
  {
   "cell_type": "code",
   "execution_count": null,
   "metadata": {
    "colab": {},
    "colab_type": "code",
    "id": "0HEKqtaZVwWv"
   },
   "outputs": [],
   "source": [
    "num_qubits = 32 \n",
    "\n",
    "\n",
    "alice_basis = np.random.randint(2, size=num_qubits)\n",
    "alice_state = np.random.randint(2, size=num_qubits)\n",
    "bob_basis = np.random.randint(2, size=num_qubits)\n",
    "\n",
    "\n",
    "print(alice_state)\n",
    "print(alice_basis)\n",
    "print(bob_basis)"
   ]
  },
  {
   "cell_type": "markdown",
   "metadata": {
    "colab_type": "text",
    "id": "pS2PFgpzq63z"
   },
   "source": [
    "## Creating the circuit\n",
    "\n",
    "Based on the following results:\n",
    "\n",
    "$X|0\\rangle = |1\\rangle$\n",
    "\n",
    "$H|0\\rangle = |+\\rangle$\n",
    "\n",
    "$ HX|0\\rangle = |-\\rangle$\n",
    "\n",
    "Our algorithm to construct the circuit is as follows:\n",
    "\n",
    "1. Whenever Alice wants to encode 1 in a qubit, she applies an $X$ gate to the qubit. To encode 0, no action is needed.\n",
    "2. Wherever she wants to encode it in the Hadamard basis, she applies an $H$ gate. No action is necessary to encode a qubit in the computational basis.\n",
    "\n",
    "3. She then _sends_ the qubits to Bob (symbolically represented in this circuit using wires)\n",
    "\n",
    "4. Bob measures the qubits according to his binary string. To measure a qubit in the Hadamard basis, he applies an $H$ gate to the corresponding qubit and then performs a mesurement on the computational basis. \n",
    "\n"
   ]
  },
  {
   "cell_type": "code",
   "execution_count": null,
   "metadata": {
    "colab": {},
    "colab_type": "code",
    "id": "rzMnBoG3ZBQc"
   },
   "outputs": [],
   "source": [
    "q = QuantumRegister(num_qubits,'q')\n",
    "c = ClassicalRegister(num_qubits,'c')\n",
    "\n",
    "bb84 = QuantumCircuit(q,c,name='bb84')\n",
    "\n",
    "# Alice prepares her qubits\n",
    "for index, _ in enumerate(alice_basis):\n",
    "    if alice_state[index] == 1:\n",
    "        bb84.x(q[index])\n",
    "    if alice_basis[index] == 1:\n",
    "        bb84.h(q[index])\n",
    "bb84.barrier()  \n",
    "\n",
    "# Bob measures the received qubits\n",
    "for index, _ in enumerate(bob_basis):\n",
    "    if bob_basis[index] == 1:\n",
    "        bb84.h(q[index])\n",
    "        \n",
    "bb84.barrier()        \n",
    "bb84.measure(q,c)\n",
    "    \n",
    "            \n",
    "# bb84.draw()\n"
   ]
  },
  {
   "cell_type": "markdown",
   "metadata": {
    "colab_type": "text",
    "id": "PdATC1H53h0P"
   },
   "source": [
    "### Running it on the IBMQ machines\n",
    "\n",
    "The following cell is only needed if you want to use the IBM Q Experience devices. Please enter your API token between the quotes. Instructions are given [here](https://github.com/Qiskit/qiskit/blob/master/docs/install.rst#access-ibm-q-devices)\n",
    "Uncomment the code in the cell to use it. "
   ]
  },
  {
   "cell_type": "code",
   "execution_count": null,
   "metadata": {
    "colab": {},
    "colab_type": "code",
    "id": "R-YIvzQyXFdr"
   },
   "outputs": [],
   "source": [
    "token = '8dad7b6e859473840931777cf93a88d380b3b1b2525c02be6b583ecfe6080e8f0c683b9b6e8810eb5dc91b2bf95ae6bbc800d7d8655c4d5d6480f89f9c1566d9'\n",
    "IBMQ.enable_account(token)\n",
    "IBMQ.backends()"
   ]
  },
  {
   "cell_type": "markdown",
   "metadata": {
    "colab_type": "text",
    "id": "DXypnuFRv5Z2"
   },
   "source": [
    "## Performing the actual experiment\n",
    "\n",
    "Run the code on the desired backend. Use the cell above to authenticate yourself to the IBMQ network."
   ]
  },
  {
   "cell_type": "code",
   "execution_count": null,
   "metadata": {
    "colab": {},
    "colab_type": "code",
    "id": "p5BGfk0gOP5y"
   },
   "outputs": [],
   "source": [
    "# backend = BasicAer.get_backend('qasm_simulator')\n",
    "# backend = IBMQ.get_backend('ibmq_16_melbourne')\n",
    "backend = IBMQ.get_backend('ibmq_qasm_simulator')\n",
    "\n",
    "job = execute(bb84,backend,shots=1024)\n",
    "\n",
    "job_monitor(job)\n",
    "\n",
    "result = job.result()\n",
    "counts = result.get_counts()\n",
    "\n",
    "# Prints out all the measured binary strings by Bob (reversed)\n",
    "# for count in [*counts]:\n",
    "#     print(count) "
   ]
  },
  {
   "cell_type": "markdown",
   "metadata": {
    "colab_type": "text",
    "id": "0nnU125A1f_y"
   },
   "source": [
    "## Creating the key\n",
    "\n",
    "Alice and Bob only keep the bits where their bases match"
   ]
  },
  {
   "cell_type": "code",
   "execution_count": null,
   "metadata": {
    "colab": {},
    "colab_type": "code",
    "id": "Sq2VoUgFSxgg"
   },
   "outputs": [],
   "source": [
    "keys = []\n",
    "for temp_key in [*counts]:\n",
    "    temp_key_rev = temp_key[::-1] # qubit orders are reversed in qiskit\n",
    "    key = ''\n",
    "    for i in range(num_qubits):\n",
    "        if alice_basis[i] == bob_basis[i]: # Only choose bits where Alice and Bob chose the same basis\n",
    "             key += str(temp_key_rev[i])\n",
    "    keys.append(key)\n",
    "#     print(key)"
   ]
  },
  {
   "cell_type": "markdown",
   "metadata": {
    "colab_type": "text",
    "id": "zOpWqZ9m1rgP"
   },
   "source": [
    "Let us look at the length of the key"
   ]
  },
  {
   "cell_type": "code",
   "execution_count": null,
   "metadata": {
    "colab": {},
    "colab_type": "code",
    "id": "qs8_2ESBoc2w"
   },
   "outputs": [],
   "source": [
    "print(len(keys[0]))"
   ]
  }
 ],
 "metadata": {
  "colab": {
   "collapsed_sections": [],
   "name": "BB84.ipynb",
   "provenance": [],
   "version": "0.3.2"
  },
  "kernelspec": {
   "display_name": "Python 3",
   "language": "python",
   "name": "python3"
  },
  "language_info": {
   "codemirror_mode": {
    "name": "ipython",
    "version": 3
   },
   "file_extension": ".py",
   "mimetype": "text/x-python",
   "name": "python",
   "nbconvert_exporter": "python",
   "pygments_lexer": "ipython3",
   "version": "3.7.3"
  }
 },
 "nbformat": 4,
 "nbformat_minor": 2
}
