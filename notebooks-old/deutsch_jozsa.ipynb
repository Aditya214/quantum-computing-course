{
  "nbformat": 4,
  "nbformat_minor": 0,
  "metadata": {
    "colab": {
      "name": "deutsch_jozsa.ipynb",
      "version": "0.3.2",
      "provenance": [],
      "private_outputs": true,
      "collapsed_sections": []
    },
    "kernelspec": {
      "name": "python3",
      "display_name": "Python 3"
    }
  },
  "cells": [
    {
      "cell_type": "markdown",
      "metadata": {
        "id": "b6mkxGGbtkMe",
        "colab_type": "text"
      },
      "source": [
        "**Please only run the following cell if you're running this notebook on Google colab or another cloud hosted notebook server.**"
      ]
    },
    {
      "cell_type": "code",
      "metadata": {
        "id": "EgMGMz-0thEK",
        "colab_type": "code",
        "colab": {}
      },
      "source": [
        "!pip install qiskit"
      ],
      "execution_count": 0,
      "outputs": []
    },
    {
      "cell_type": "markdown",
      "metadata": {
        "id": "DfFnrrq4tuU7",
        "colab_type": "text"
      },
      "source": [
        "# Deutsch-Jozsa Algorithm"
      ]
    },
    {
      "cell_type": "code",
      "metadata": {
        "id": "9aQBwI-itnlh",
        "colab_type": "code",
        "colab": {}
      },
      "source": [
        "from qiskit import BasicAer, IBMQ, execute\n",
        "from qiskit import QuantumCircuit, QuantumRegister, ClassicalRegister\n",
        "\n",
        "from qiskit.tools.monitor import job_monitor\n",
        "from qiskit.tools.visualization import plot_histogram\n",
        "from qiskit.providers.ibmq import least_busy\n",
        "%pylab inline"
      ],
      "execution_count": 0,
      "outputs": []
    },
    {
      "cell_type": "code",
      "metadata": {
        "id": "oJvg5V9L2EE8",
        "colab_type": "code",
        "colab": {}
      },
      "source": [
        "token = ''\n",
        "IBMQ.enable_account(token)\n",
        "IBMQ.backends()"
      ],
      "execution_count": 0,
      "outputs": []
    },
    {
      "cell_type": "code",
      "metadata": {
        "id": "ELZuV1ze3BSM",
        "colab_type": "code",
        "colab": {}
      },
      "source": [
        "num_qubits = 2\n",
        "\n",
        "total_qubits = num_qubits + 1\n",
        "\n",
        "q = QuantumRegister(total_qubits,'q')\n",
        "c = ClassicalRegister(num_qubits,'c')\n",
        "\n",
        "dj = QuantumCircuit(q,c)\n",
        "\n",
        "# Prepare the initial superposition and ancilla state\n",
        "\n",
        "dj.x(q[-1])\n",
        "\n",
        "for index in range(total_qubits):\n",
        "    dj.h(q[index])\n",
        "    \n",
        "dj.barrier()\n",
        "\n",
        "# Oracle goes here\n",
        "\n",
        "# 2 qubit xor\n",
        "dj.cx(q[0],q[2])\n",
        "dj.cx(q[1],q[2])\n",
        "dj.x(q[2])\n",
        "\n",
        "\n",
        "dj.barrier()\n",
        "\n",
        "for index in range(total_qubits):\n",
        "    dj.h(q[index])\n",
        "\n",
        "dj.x(q[-1])\n",
        "\n",
        "dj.barrier()\n",
        "\n",
        "\n",
        "dj.measure(q[:-1],c)\n",
        "\n",
        "\n",
        "dj.draw(output = 'mpl')"
      ],
      "execution_count": 0,
      "outputs": []
    },
    {
      "cell_type": "code",
      "metadata": {
        "id": "RHE7puVg6bfj",
        "colab_type": "code",
        "colab": {}
      },
      "source": [
        "# backend = BasicAer.get_backend('qasm_simulator')\n",
        "# backend = IBMQ.get_backend('ibmq_16_melbourne')\n",
        "# backend = least_busy(IBMQ.backends(filters=lambda x: not x.configuration().simulator)) # Gets the least busy IBM Q machine\n",
        "backend = IBMQ.get_backend('ibmq_qasm_simulator')\n",
        "\n",
        "job = execute(dj,backend,shots=8192)\n",
        "\n",
        "job_monitor(job)\n",
        "\n",
        "result = job.result()\n",
        "counts = result.get_counts()\n",
        "plot_histogram(counts)"
      ],
      "execution_count": 0,
      "outputs": []
    }
  ]
}