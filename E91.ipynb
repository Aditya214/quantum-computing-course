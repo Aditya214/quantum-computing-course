{
  "nbformat": 4,
  "nbformat_minor": 0,
  "metadata": {
    "colab": {
      "name": "E91.ipynb",
      "version": "0.3.2",
      "provenance": [],
      "collapsed_sections": []
    },
    "kernelspec": {
      "name": "python3",
      "display_name": "Python 3"
    }
  },
  "cells": [
    {
      "cell_type": "markdown",
      "metadata": {
        "id": "xeidxw0H3Rvj",
        "colab_type": "text"
      },
      "source": [
        "**Please only run the following cell if you're running this notebook on Google colab or another cloud hosted notebook server.**"
      ]
    },
    {
      "cell_type": "code",
      "metadata": {
        "id": "InCkNlo8VsEi",
        "colab_type": "code",
        "colab": {}
      },
      "source": [
        "!pip install qiskit"
      ],
      "execution_count": 0,
      "outputs": []
    },
    {
      "cell_type": "markdown",
      "metadata": {
        "id": "XcaDuzXbl_mL",
        "colab_type": "text"
      },
      "source": [
        "# E91 Quantum Key Distribution (QKD) Protocol\n",
        "\n",
        "This notebook is a _demonstration_ of the E91 Protocol for QKD using Qiskit. \n",
        "E91 is a quantum key distribution scheme developed by Artur Ekert in 1991 ([paper]).\n",
        "\n",
        "[paper]: https://journals.aps.org/prl/abstract/10.1103/PhysRevLett.67.661\n"
      ]
    },
    {
      "cell_type": "code",
      "metadata": {
        "id": "48Nq5dTpVtjb",
        "colab_type": "code",
        "outputId": "3eb3c426-e850-471c-9be7-c8bc152515d0",
        "colab": {
          "base_uri": "https://localhost:8080/",
          "height": 35
        }
      },
      "source": [
        "from qiskit import BasicAer\n",
        "from qiskit import QuantumCircuit, QuantumRegister, ClassicalRegister\n",
        "from qiskit import execute\n",
        "from qiskit import IBMQ\n",
        "\n",
        "\n",
        "from qiskit.tools.monitor import job_monitor\n",
        "%pylab inline"
      ],
      "execution_count": 0,
      "outputs": [
        {
          "output_type": "stream",
          "text": [
            "Populating the interactive namespace from numpy and matplotlib\n"
          ],
          "name": "stdout"
        }
      ]
    },
    {
      "cell_type": "markdown",
      "metadata": {
        "id": "W_VfWIExmzbR",
        "colab_type": "text"
      },
      "source": [
        "First we will simulate a noiseless quantum channel free from an eavesdropper. The qubit capabilites of the available backends are listed below:\n",
        "\n",
        "\n",
        "| Backend | Number of qubits |\n",
        "|----------|------------------|\n",
        "|qasm_simulator|24|\n",
        "|ibmq_qasm_simulator|32|\n",
        "|ibmqx4|5|\n",
        "|ibmqx2|5|\n",
        "|ibmq_16_melbourne|14|\n",
        "\n",
        "## Choosing bases\n",
        "\n",
        "A third party creates $|B_{00}\\rangle $ Bell pairs and distributes the halves to Alice and Bob. Aice and Bob each choose a basis using the following convention:\n",
        "\n",
        "$0 \\rightarrow$ Computational basis\n",
        "\n",
        "$1  \\rightarrow$ Hadamard basis\n",
        "\n"
      ]
    },
    {
      "cell_type": "code",
      "metadata": {
        "id": "0HEKqtaZVwWv",
        "colab_type": "code",
        "outputId": "fbb97af5-b96f-460f-b368-66070a4b5348",
        "colab": {
          "base_uri": "https://localhost:8080/",
          "height": 54
        }
      },
      "source": [
        "num_qubits = 32\n",
        "\n",
        "\n",
        "alice_basis = np.random.randint(2, size=num_qubits//2)\n",
        "bob_basis = np.random.randint(2, size=num_qubits//2)\n",
        "\n",
        "\n",
        "print(alice_basis)\n",
        "print(bob_basis)"
      ],
      "execution_count": 0,
      "outputs": [
        {
          "output_type": "stream",
          "text": [
            "[0 1 0 1 1 1 0 1 0 0 1 0 0 1 1 0]\n",
            "[1 0 1 1 1 1 1 1 0 0 0 1 1 1 1 1]\n"
          ],
          "name": "stdout"
        }
      ]
    },
    {
      "cell_type": "markdown",
      "metadata": {
        "id": "pS2PFgpzq63z",
        "colab_type": "text"
      },
      "source": [
        "## Creating the circuit\n",
        "\n",
        "Based on the following results:\n",
        "\n",
        "$CX(H \\otimes I)|00\\rangle = |B_{00}\\rangle$\n",
        "\n",
        "\n",
        "Our algorithm to construct the circuit is as follows:\n",
        "\n",
        "1. Create Bell pairs for Alice and Bob using the above result. One half of each pair is sent to Alice and Bob respectively.\n",
        "\n",
        "2. Alice and Bob measure the qubits according to their binary strings. To measure a qubit in the Hadamard basis, they apply an $H$ gate to the corresponding qubit and then perform a mesurement on the computational basis."
      ]
    },
    {
      "cell_type": "code",
      "metadata": {
        "id": "rzMnBoG3ZBQc",
        "colab_type": "code",
        "outputId": "1cd503a1-84ab-4cfb-a904-34e963c2982c",
        "colab": {
          "base_uri": "https://localhost:8080/",
          "height": 35
        }
      },
      "source": [
        "a = QuantumRegister(num_qubits//2,'qa')\n",
        "b = QuantumRegister(num_qubits//2,'qb')\n",
        "ca = ClassicalRegister(num_qubits//2,'c_alice')\n",
        "cb = ClassicalRegister(num_qubits//2,'c_bob')\n",
        "\n",
        "e91 = QuantumCircuit(a,b,ca,cb,name='e91')\n",
        "\n",
        "# Entangle pairs of qubits for Alice and Bob\n",
        "for index in range(num_qubits//2):\n",
        "    e91.h(a[index])\n",
        "    e91.cx(a[index],b[index])\n",
        "    \n",
        "e91.barrier()    \n",
        "    \n",
        "# Alice measures the received qubits\n",
        "for index, _ in enumerate(alice_basis):\n",
        "    if alice_basis[index] == 1:\n",
        "        e91.h(a[index])    \n",
        "\n",
        "e91.measure(a,ca)\n",
        "e91.barrier()    \n",
        "\n",
        "\n",
        "# Bob measures the received qubits\n",
        "for index, _ in enumerate(bob_basis):\n",
        "    if bob_basis[index] == 1:\n",
        "        e91.h(b[index]) \n",
        "        \n",
        "e91.measure(b,cb)\n",
        "    \n",
        "            \n",
        "# e91.draw()\n"
      ],
      "execution_count": 0,
      "outputs": [
        {
          "output_type": "execute_result",
          "data": {
            "text/plain": [
              "<qiskit.circuit.instructionset.InstructionSet at 0x7f48d14abc18>"
            ]
          },
          "metadata": {
            "tags": []
          },
          "execution_count": 4
        }
      ]
    },
    {
      "cell_type": "markdown",
      "metadata": {
        "id": "PdATC1H53h0P",
        "colab_type": "text"
      },
      "source": [
        "### Running it on the IBMQ machines\n",
        "\n",
        "The following cell is only needed if you want to use the IBM Q Experience devices. Please enter your API token between the quotes. Instructions are given [here](https://github.com/Qiskit/qiskit/blob/master/docs/install.rst#access-ibm-q-devices)\n",
        "Uncomment the code in the cell to use it. "
      ]
    },
    {
      "cell_type": "code",
      "metadata": {
        "id": "R-YIvzQyXFdr",
        "colab_type": "code",
        "outputId": "5ee2a686-0249-4448-c52c-829c68b6f9cb",
        "colab": {
          "base_uri": "https://localhost:8080/",
          "height": 90
        }
      },
      "source": [
        "token = '8dad7b6e859473840931777cf93a88d380b3b1b2525c02be6b583ecfe6080e8f0c683b9b6e8810eb5dc91b2bf95ae6bbc800d7d8655c4d5d6480f89f9c1566d9'\n",
        "IBMQ.enable_account(token)\n",
        "IBMQ.backends()"
      ],
      "execution_count": 0,
      "outputs": [
        {
          "output_type": "execute_result",
          "data": {
            "text/plain": [
              "[<IBMQBackend('ibmqx4') from IBMQ()>,\n",
              " <IBMQBackend('ibmqx2') from IBMQ()>,\n",
              " <IBMQBackend('ibmq_16_melbourne') from IBMQ()>,\n",
              " <IBMQSimulator('ibmq_qasm_simulator') from IBMQ()>]"
            ]
          },
          "metadata": {
            "tags": []
          },
          "execution_count": 5
        }
      ]
    },
    {
      "cell_type": "markdown",
      "metadata": {
        "id": "DXypnuFRv5Z2",
        "colab_type": "text"
      },
      "source": [
        "## Performing the actual experiment\n",
        "\n",
        "Run the code on the desired backend. Use the cell above to authenticate yourself to the IBMQ network."
      ]
    },
    {
      "cell_type": "code",
      "metadata": {
        "id": "p5BGfk0gOP5y",
        "colab_type": "code",
        "colab": {}
      },
      "source": [
        "# backend = BasicAer.get_backend('qasm_simulator')\n",
        "# backend = IBMQ.get_backend('ibmq_16_melbourne')\n",
        "backend = IBMQ.get_backend('ibmq_qasm_simulator')\n",
        "\n",
        "job = execute(e91,backend,shots=8192)\n",
        "\n",
        "job_monitor(job)\n",
        "\n",
        "result = job.result()\n",
        "counts = result.get_counts()\n",
        "\n",
        "# Prints out all the measured binary strings by Bob (reversed)\n",
        "for count in [*counts]:\n",
        "#     print(count) "
      ],
      "execution_count": 0,
      "outputs": []
    },
    {
      "cell_type": "markdown",
      "metadata": {
        "id": "0nnU125A1f_y",
        "colab_type": "text"
      },
      "source": [
        "## Creating the key\n",
        "\n",
        "Alice and Bob only keep the bits where their bases match"
      ]
    },
    {
      "cell_type": "code",
      "metadata": {
        "id": "Sq2VoUgFSxgg",
        "colab_type": "code",
        "colab": {}
      },
      "source": [
        "alice_keys = []\n",
        "bob_keys = []\n",
        "matches = 0\n",
        "for temp_key in [*counts]:\n",
        "    temp_key_rev = temp_key[::-1] # qubit orders are reversed in qiskit\n",
        "    alice_temp_key = temp_key_rev[0:num_qubits//2]\n",
        "    bob_temp_key = temp_key_rev[(num_qubits//2)+1:]  #Note the space \n",
        "    alice_key = ''\n",
        "    bob_key = ''\n",
        "    for i in range(num_qubits//2):\n",
        "        if alice_basis[i] == bob_basis[i]: # Only choose bits where Alice and Bob chose the same basis\n",
        "            alice_key += str(alice_temp_key[i])\n",
        "            bob_key += str(bob_temp_key[i])\n",
        "        else:\n",
        "            if alice_temp_key[i] == bob_temp_key[i]:\n",
        "                matches += 1\n",
        "    alice_keys.append(alice_key)\n",
        "    bob_keys.append(bob_key)"
      ],
      "execution_count": 0,
      "outputs": []
    },
    {
      "cell_type": "markdown",
      "metadata": {
        "id": "zOpWqZ9m1rgP",
        "colab_type": "text"
      },
      "source": [
        "Let us measure how many of the bits where Alice and Bob chose different bases are correlated"
      ]
    },
    {
      "cell_type": "code",
      "metadata": {
        "id": "5eN30MuUdsa4",
        "colab_type": "code",
        "outputId": "55d461ac-983e-4779-b8f0-9ffc67b28083",
        "colab": {
          "base_uri": "https://localhost:8080/",
          "height": 35
        }
      },
      "source": [
        "def count_mismatches(a_basis,b_basis):\n",
        "    return num_qubits//2 - len([1 for a,b in zip(a_basis,b_basis) if a==b])\n",
        "matches/(count_mismatches(alice_basis,bob_basis)*8192)"
      ],
      "execution_count": 0,
      "outputs": [
        {
          "output_type": "execute_result",
          "data": {
            "text/plain": [
              "0.4974822998046875"
            ]
          },
          "metadata": {
            "tags": []
          },
          "execution_count": 8
        }
      ]
    },
    {
      "cell_type": "code",
      "metadata": {
        "id": "qs8_2ESBoc2w",
        "colab_type": "code",
        "colab": {}
      },
      "source": [
        "# Check if their keys are the same\n",
        "for alice_key, bob_key in zip(alice_keys, bob_keys):\n",
        "    if alice_key!=bob_key:\n",
        "        print(\"Mismatch\")\n",
        "        break"
      ],
      "execution_count": 0,
      "outputs": []
    }
  ]
}