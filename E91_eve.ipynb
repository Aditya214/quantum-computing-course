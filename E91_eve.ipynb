{
  "nbformat": 4,
  "nbformat_minor": 0,
  "metadata": {
    "colab": {
      "name": "E91_eve.ipynb",
      "version": "0.3.2",
      "provenance": [],
      "collapsed_sections": []
    },
    "kernelspec": {
      "name": "python3",
      "display_name": "Python 3"
    }
  },
  "cells": [
    {
      "cell_type": "markdown",
      "metadata": {
        "id": "xeidxw0H3Rvj",
        "colab_type": "text"
      },
      "source": [
        "**Please only run the following cell if you're running this notebook on Google colab or another cloud hosted notebook server.**"
      ]
    },
    {
      "cell_type": "code",
      "metadata": {
        "id": "InCkNlo8VsEi",
        "colab_type": "code",
        "colab": {}
      },
      "source": [
        "!pip install qiskit"
      ],
      "execution_count": 0,
      "outputs": []
    },
    {
      "cell_type": "markdown",
      "metadata": {
        "id": "XcaDuzXbl_mL",
        "colab_type": "text"
      },
      "source": [
        "# E91 Quantum Key Distribution (QKD) Protocol\n",
        "\n",
        "This notebook is a _demonstration_ of the E91 Protocol for QKD using Qiskit. \n",
        "E91 is a quantum key distribution scheme developed by Artur Ekert in 1991 ([paper]).\n",
        "\n",
        "[paper]: https://journals.aps.org/prl/abstract/10.1103/PhysRevLett.67.661\n"
      ]
    },
    {
      "cell_type": "code",
      "metadata": {
        "id": "48Nq5dTpVtjb",
        "colab_type": "code",
        "colab": {}
      },
      "source": [
        "from qiskit import BasicAer\n",
        "from qiskit import QuantumCircuit, QuantumRegister, ClassicalRegister\n",
        "from qiskit import execute\n",
        "from qiskit import IBMQ\n",
        "\n",
        "\n",
        "from qiskit.tools.monitor import job_monitor\n",
        "%pylab inline"
      ],
      "execution_count": 0,
      "outputs": []
    },
    {
      "cell_type": "markdown",
      "metadata": {
        "id": "W_VfWIExmzbR",
        "colab_type": "text"
      },
      "source": [
        "First we will simulate a noiseless quantum channel free from an eavesdropper. The qubit capabilites of the available backends are listed below:\n",
        "\n",
        "\n",
        "| Backend | Number of qubits |\n",
        "|----------|------------------|\n",
        "|qasm_simulator|24|\n",
        "|ibmq_qasm_simulator|32|\n",
        "|ibmqx4|5|\n",
        "|ibmqx2|5|\n",
        "|ibmq_16_melbourne|14|\n",
        "\n",
        "## Choosing bases\n",
        "\n",
        "A third party creates $|B_{00}\\rangle $ Bell pairs and distributes the halves to Alice and Bob. Aice and Bob each choose a basis using the following convention:\n",
        "\n",
        "$0 \\rightarrow$ Computational basis\n",
        "\n",
        "$1  \\rightarrow$ Hadamard basis\n",
        "\n",
        "Here Eve, also choose a basis randomly using the convention above\n",
        "\n"
      ]
    },
    {
      "cell_type": "code",
      "metadata": {
        "id": "0HEKqtaZVwWv",
        "colab_type": "code",
        "colab": {}
      },
      "source": [
        "num_qubits = 32\n",
        "\n",
        "\n",
        "alice_basis = np.random.randint(2, size=num_qubits//2)\n",
        "bob_basis = np.random.randint(2, size=num_qubits//2)\n",
        "eve_basis = np.random.randint(2, size=num_qubits//2)\n",
        "\n",
        "\n",
        "print(alice_basis)\n",
        "print(bob_basis)\n",
        "print(eve_basis)"
      ],
      "execution_count": 0,
      "outputs": []
    },
    {
      "cell_type": "markdown",
      "metadata": {
        "id": "pS2PFgpzq63z",
        "colab_type": "text"
      },
      "source": [
        "## Creating the circuit\n",
        "\n",
        "Based on the following results:\n",
        "\n",
        "$CX(H \\otimes I)|00\\rangle = |B_{00}\\rangle$\n",
        "\n",
        "\n",
        "Our algorithm to construct the circuit is as follows:\n",
        "\n",
        "1. Create Bell pairs for Alice and Bob using the above result. One half of each pair is sent to Alice and Bob respectively.\n",
        "\n",
        "2. Eve intercepts Bob's qubits and performs a measurement on them choosing a basis randomly according to her binary string. \n",
        "\n",
        "3. Alice and Bob measure the qubits according to their binary strings. To measure a qubit in the Hadamard basis, they apply an $H$ gate to the corresponding qubit and then perform a mesurement on the computational basis."
      ]
    },
    {
      "cell_type": "code",
      "metadata": {
        "id": "rzMnBoG3ZBQc",
        "colab_type": "code",
        "colab": {}
      },
      "source": [
        "a = QuantumRegister(num_qubits//2,'qa')\n",
        "b = QuantumRegister(num_qubits//2,'qb')\n",
        "ca = ClassicalRegister(num_qubits//2,'c_alice')\n",
        "cb = ClassicalRegister(num_qubits//2,'c_bob')\n",
        "ce = ClassicalRegister(num_qubits//2,'c_eve')\n",
        "\n",
        "e91 = QuantumCircuit(a,b,ca,cb, ce,name='e91')\n",
        "\n",
        "# Entangle pairs of qubits for Alice and Bob\n",
        "for index in range(num_qubits//2):\n",
        "    e91.h(a[index])\n",
        "    e91.cx(a[index],b[index])\n",
        "    \n",
        "e91.barrier()    \n",
        "\n",
        "# Eve intercepts Bob's qubits and measures them before sending them to Bob\n",
        "for index, _ in enumerate(eve_basis):\n",
        "    if eve_basis[index] == 1:\n",
        "        e91.h(b[index])    \n",
        "\n",
        "e91.measure(b,ce)\n",
        "e91.barrier()\n",
        "\n",
        "# Alice measures the received qubits\n",
        "for index, _ in enumerate(alice_basis):\n",
        "    if alice_basis[index] == 1:\n",
        "        e91.h(a[index])    \n",
        "\n",
        "e91.measure(a,ca)\n",
        "e91.barrier()    \n",
        "\n",
        "# Bob measures the received qubits\n",
        "for index, _ in enumerate(bob_basis):\n",
        "    if bob_basis[index] == 1:\n",
        "        e91.h(b[index]) \n",
        "        \n",
        "e91.measure(b,cb)\n",
        "    \n",
        "            \n",
        "# e91.draw()\n"
      ],
      "execution_count": 0,
      "outputs": []
    },
    {
      "cell_type": "markdown",
      "metadata": {
        "id": "PdATC1H53h0P",
        "colab_type": "text"
      },
      "source": [
        "### Running it on the IBMQ machines\n",
        "\n",
        "The following cell is only needed if you want to use the IBM Q Experience devices. Please enter your API token between the quotes. Instructions are given [here](https://github.com/Qiskit/qiskit/blob/master/docs/install.rst#access-ibm-q-devices)\n",
        "Uncomment the code in the cell to use it. "
      ]
    },
    {
      "cell_type": "code",
      "metadata": {
        "id": "R-YIvzQyXFdr",
        "colab_type": "code",
        "colab": {}
      },
      "source": [
        "token = '8dad7b6e859473840931777cf93a88d380b3b1b2525c02be6b583ecfe6080e8f0c683b9b6e8810eb5dc91b2bf95ae6bbc800d7d8655c4d5d6480f89f9c1566d9'\n",
        "IBMQ.enable_account(token)\n",
        "IBMQ.backends()"
      ],
      "execution_count": 0,
      "outputs": []
    },
    {
      "cell_type": "markdown",
      "metadata": {
        "id": "DXypnuFRv5Z2",
        "colab_type": "text"
      },
      "source": [
        "## Performing the actual experiment\n",
        "\n",
        "Run the code on the desired backend. Use the cell above to authenticate yourself to the IBMQ network."
      ]
    },
    {
      "cell_type": "code",
      "metadata": {
        "id": "p5BGfk0gOP5y",
        "colab_type": "code",
        "colab": {}
      },
      "source": [
        "# backend = BasicAer.get_backend('qasm_simulator')\n",
        "# backend = IBMQ.get_backend('ibmq_16_melbourne')\n",
        "backend = IBMQ.get_backend('ibmq_qasm_simulator')\n",
        "\n",
        "job = execute(e91,backend,shots=8192)\n",
        "\n",
        "job_monitor(job)\n",
        "\n",
        "result = job.result()\n",
        "counts = result.get_counts()\n",
        "\n",
        "# Prints out all the measured binary strings by Bob (reversed)\n",
        "for count in [*counts][:10]:\n",
        "    print(count) "
      ],
      "execution_count": 0,
      "outputs": []
    },
    {
      "cell_type": "markdown",
      "metadata": {
        "id": "0nnU125A1f_y",
        "colab_type": "text"
      },
      "source": [
        "## Creating the key\n",
        "\n",
        "Alice and Bob only keep the bits where their bases match"
      ]
    },
    {
      "cell_type": "code",
      "metadata": {
        "id": "Sq2VoUgFSxgg",
        "colab_type": "code",
        "colab": {}
      },
      "source": [
        "alice_keys = []\n",
        "bob_keys = []\n",
        "eve_keys = []\n",
        "matches = 0\n",
        "for temp_key in [*counts]:\n",
        "    temp_key_rev = temp_key[::-1] # qubit orders are reversed in qiskit\n",
        "    alice_temp_key = temp_key_rev[0:num_qubits//2]\n",
        "    bob_temp_key = temp_key_rev[(num_qubits//2)+1:num_qubits+1]  #Note the space \n",
        "    eve_temp_key = temp_key_rev[num_qubits+2:]\n",
        "    alice_key = ''\n",
        "    bob_key = ''\n",
        "    eve_key = ''\n",
        "    for i in range(num_qubits//2):\n",
        "        if alice_basis[i] == bob_basis[i]: # Only choose bits where Alice and Bob chose the same basis\n",
        "            alice_key += str(alice_temp_key[i])\n",
        "            bob_key += str(bob_temp_key[i])\n",
        "            eve_key += str(eve_temp_key[i])\n",
        "        else:\n",
        "            if alice_temp_key[i] == bob_temp_key[i]:\n",
        "#                 print(alice_basis[i],bob_basis[i],alice_temp_key[i],bob_temp_key[i])\n",
        "                matches += 1\n",
        "    alice_keys.append(alice_key)\n",
        "    bob_keys.append(bob_key)\n",
        "    eve_keys.append(eve_key)"
      ],
      "execution_count": 0,
      "outputs": []
    },
    {
      "cell_type": "markdown",
      "metadata": {
        "id": "zOpWqZ9m1rgP",
        "colab_type": "text"
      },
      "source": [
        "Let us measure how many of the bits where Alice and Bob chose different bases are correlated"
      ]
    },
    {
      "cell_type": "code",
      "metadata": {
        "id": "5eN30MuUdsa4",
        "colab_type": "code",
        "colab": {}
      },
      "source": [
        "def count_mismatches(a_basis,b_basis):\n",
        "    return len([1 for a,b in zip(a_basis,b_basis) if a!=b])\n",
        "matches/(count_mismatches(alice_basis,bob_basis)*8192)"
      ],
      "execution_count": 0,
      "outputs": []
    },
    {
      "cell_type": "code",
      "metadata": {
        "id": "qs8_2ESBoc2w",
        "colab_type": "code",
        "colab": {}
      },
      "source": [
        "# Check if their keys are the same\n",
        "for alice_key, bob_key, eve_key in zip(alice_keys, bob_keys, eve_keys):\n",
        "    print(alice_key,bob_key,eve_key,alice_key == bob_key)"
      ],
      "execution_count": 0,
      "outputs": []
    }
  ]
}