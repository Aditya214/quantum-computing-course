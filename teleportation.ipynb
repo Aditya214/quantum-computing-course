{
  "nbformat": 4,
  "nbformat_minor": 0,
  "metadata": {
    "colab": {
      "name": "teleportation.ipynb",
      "version": "0.3.2",
      "provenance": [],
      "collapsed_sections": []
    },
    "kernelspec": {
      "name": "python3",
      "display_name": "Python 3"
    }
  },
  "cells": [
    {
      "cell_type": "markdown",
      "metadata": {
        "id": "R3IS6rkAIB_z",
        "colab_type": "text"
      },
      "source": [
        "**Please only run the following cell if you're running this notebook on Google colab or another cloud hosted notebook server.**"
      ]
    },
    {
      "cell_type": "code",
      "metadata": {
        "id": "1lG83W8GUeDp",
        "colab_type": "code",
        "colab": {}
      },
      "source": [
        "!pip install qiskit"
      ],
      "execution_count": 0,
      "outputs": []
    },
    {
      "cell_type": "code",
      "metadata": {
        "id": "TxZ7Nh6ZVy-_",
        "colab_type": "code",
        "outputId": "322e1ec5-b785-44b6-93f1-59da09275ae7",
        "colab": {
          "base_uri": "https://localhost:8080/",
          "height": 35
        }
      },
      "source": [
        "from qiskit import QuantumRegister, ClassicalRegister, QuantumCircuit\n",
        "from qiskit import BasicAer, IBMQ, execute\n",
        "\n",
        "from qiskit.providers.ibmq import least_busy\n",
        "from qiskit.tools.monitor import job_monitor\n",
        "from qiskit.tools.visualization import plot_histogram\n",
        "\n",
        "\n",
        "%pylab inline"
      ],
      "execution_count": 10,
      "outputs": [
        {
          "output_type": "stream",
          "text": [
            "Populating the interactive namespace from numpy and matplotlib\n"
          ],
          "name": "stdout"
        }
      ]
    },
    {
      "cell_type": "code",
      "metadata": {
        "id": "li9zFrIxW33w",
        "colab_type": "code",
        "outputId": "ea53e78b-0ca1-41f3-ed71-ea2620129f83",
        "colab": {
          "base_uri": "https://localhost:8080/",
          "height": 317
        }
      },
      "source": [
        "q = QuantumRegister(3, \"q\")\n",
        "c = ClassicalRegister(3, \"c\")\n",
        "teleport = QuantumCircuit(q, c, name=\"teleport\")\n",
        "\n",
        "# Prepare an initial state\n",
        "# teleport.x(q[0])\n",
        "# teleport.u3(0.3, 0.2, 0.1, q[0])\n",
        "\n",
        "# Prepare a Bell pair\n",
        "teleport.h(q[1])\n",
        "teleport.cx(q[1], q[2])\n",
        "\n",
        "# Barrier following state preparation\n",
        "teleport.barrier(q)\n",
        "\n",
        "# Measure in the Bell basis\n",
        "teleport.cx(q[0], q[1])\n",
        "teleport.h(q[0])\n",
        "\n",
        "teleport.barrier(q)\n",
        "\n",
        "teleport.measure(q, c)\n",
        "\n",
        "teleport.draw(output = 'mpl')"
      ],
      "execution_count": 5,
      "outputs": [
        {
          "output_type": "execute_result",
          "data": {
            "image/png": "[encoded data removed]",
            "text/plain": [
              "<Figure size 903x379.26 with 1 Axes>"
            ]
          },
          "metadata": {
            "tags": []
          },
          "execution_count": 5
        }
      ]
    },
    {
      "cell_type": "code",
      "metadata": {
        "id": "mtvqmJhEXs0n",
        "colab_type": "code",
        "colab": {}
      },
      "source": [
        "token = ''\n",
        "IBMQ.enable_account(token)"
      ],
      "execution_count": 0,
      "outputs": []
    },
    {
      "cell_type": "code",
      "metadata": {
        "id": "kh9F0XtDYbME",
        "colab_type": "code",
        "outputId": "59b477f0-00a2-4757-bcc4-84b0dfd1792f",
        "colab": {
          "base_uri": "https://localhost:8080/",
          "height": 35
        }
      },
      "source": [
        "# backend = BasicAer.get_backend('qasm_simulator')\n",
        "# backend = IBMQ.get_backend('ibmq_16_melbourne')\n",
        "# backend = least_busy(IBMQ.backends(filters=lambda x: not x.configuration().simulator)) # Gets the least busy IBM Q machine\n",
        "backend = IBMQ.get_backend('ibmq_qasm_simulator')\n",
        "\n",
        "job = execute(teleport,backend,shots=8192)\n",
        "\n",
        "job_monitor(job)\n",
        "\n",
        "result = job.result()\n",
        "counts = result.get_counts()\n",
        "plot_histogram(counts)\n"
      ],
      "execution_count": 0,
      "outputs": [
        {
          "output_type": "stream",
          "text": [
            "Job Status: job is queued (3)       "
          ],
          "name": "stdout"
        }
      ]
    }
  ]
}