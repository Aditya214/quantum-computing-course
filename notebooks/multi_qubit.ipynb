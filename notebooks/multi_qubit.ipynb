{
 "cells": [
  {
   "cell_type": "markdown",
   "metadata": {},
   "source": [
    "# Multi-qubit Operations and Circuits using Qiskit"
   ]
  },
  {
   "cell_type": "code",
   "execution_count": 1,
   "metadata": {},
   "outputs": [],
   "source": [
    "%matplotlib inline\n",
    "import numpy as np\n",
    "import matplotlib.pyplot as plt\n",
    "# Importing standard Qiskit libraries \n",
    "from qiskit import QuantumCircuit, execute\n",
    "from qiskit.providers.aer import QasmSimulator\n",
    "from qiskit.visualization import *\n",
    "from qiskit.quantum_info import *"
   ]
  },
  {
   "cell_type": "markdown",
   "metadata": {},
   "source": [
    "## Product states\n",
    "We know that we can construct two-qubit states by taking the tensor product of two single-qubit states. Let's try to do that. We will try this with statevectors and try to reproduce the basis vectors mentioned in lecture. The `Statevector` class are available in the the `qiskit.quantum_info` submodule, which we have imported above. We can perform the tensor product using the `tensor()` method of `Statevector` objects and `Operator` objects. The documentation is available [here](https://qiskit.org/documentation/stubs/qiskit.quantum_info.Statevector.tensor.html#qiskit.quantum_info.Statevector.tensor). If we have two statevectors: `q1_sv` for $|q_1\\rangle$ and `q2_sv` for $|q_2\\rangle$.\n",
    "\n",
    "`q1_sv.tensor(q2_sv)` corresponds to the operation $|q_1\\rangle \\otimes |q_2\\rangle$"
   ]
  },
  {
   "cell_type": "code",
   "execution_count": 27,
   "metadata": {},
   "outputs": [
    {
     "name": "stdout",
     "output_type": "stream",
     "text": [
      "[0.+0.j 1.+0.j 0.+0.j 0.+0.j]\n"
     ]
    }
   ],
   "source": [
    "q1_sv = Statevector.from_label('0')\n",
    "q2_sv = Statevector.from_label('1')\n",
    "prod_sv = q1_sv.tensor(q2_sv)\n",
    "print(prod_sv.data)"
   ]
  },
  {
   "cell_type": "markdown",
   "metadata": {},
   "source": [
    "We get exactly the statevector that we saw in the lecture. Alternatively, we can also directly create a multi-qubit state using the `from_label()` method."
   ]
  },
  {
   "cell_type": "code",
   "execution_count": 28,
   "metadata": {},
   "outputs": [
    {
     "name": "stdout",
     "output_type": "stream",
     "text": [
      "[0.+0.j 1.+0.j 0.+0.j 0.+0.j]\n"
     ]
    }
   ],
   "source": [
    "prod_sv2 = Statevector.from_label('01')\n",
    "print(prod_sv2.data)"
   ]
  },
  {
   "cell_type": "markdown",
   "metadata": {},
   "source": [
    "## Multi-qubit operations using tensor products\n",
    "If we have two operators: `op1` for $0_1$ and `op2` for $O_2$.\n",
    "\n",
    "`op1.tensor(op2)` corresponds to the operation $O_1 \\otimes 0_2$"
   ]
  },
  {
   "cell_type": "code",
   "execution_count": 18,
   "metadata": {},
   "outputs": [
    {
     "name": "stdout",
     "output_type": "stream",
     "text": [
      "[[0.+0.j 0.+0.j 1.+0.j 0.+0.j]\n",
      " [0.+0.j 0.+0.j 0.+0.j 1.+0.j]\n",
      " [1.+0.j 0.+0.j 0.+0.j 0.+0.j]\n",
      " [0.+0.j 1.+0.j 0.+0.j 0.+0.j]]\n"
     ]
    }
   ],
   "source": [
    "op1 = Operator.from_label('X')\n",
    "op2 = Operator.from_label('I')\n",
    "prod_op = op1.tensor(op2)\n",
    "print(prod_op.data)"
   ]
  },
  {
   "cell_type": "markdown",
   "metadata": {},
   "source": [
    " Alternatively, we can also directly create a multi-qubit operator using the `from_label()` method."
   ]
  },
  {
   "cell_type": "code",
   "execution_count": 23,
   "metadata": {},
   "outputs": [
    {
     "name": "stdout",
     "output_type": "stream",
     "text": [
      "[[0.+0.j 0.+0.j 1.+0.j 0.+0.j]\n",
      " [0.+0.j 0.+0.j 0.+0.j 1.+0.j]\n",
      " [1.+0.j 0.+0.j 0.+0.j 0.+0.j]\n",
      " [0.+0.j 1.+0.j 0.+0.j 0.+0.j]]\n"
     ]
    }
   ],
   "source": [
    "prod_op2 = Operator.from_label('XI')\n",
    "print(prod_op2.data)"
   ]
  },
  {
   "cell_type": "markdown",
   "metadata": {},
   "source": [
    "## The tensor product: before and after\n",
    "We have checked that the multi-qubit product states and operators generated directly by qiskit are the same as the tensor product of the constituent single-qubit states and operator.\n",
    ". Let us check how unitary operations behave under the tensor product. We want to check whether $$ (O_{1} \\otimes O_{2})(|\\psi_{1}\\rangle \\otimes |\\psi_{2}\\rangle) = O_{1}|\\psi_{1}\\rangle \\otimes O_{2}|\\psi_{2}\\rangle$$ \n",
    "In the section above, we've used $|\\psi_{1}\\rangle = |0\\rangle$, $|\\psi_{2}\\rangle = |1\\rangle$, $O_{1} = X$ and $ O_{2} = I$. The resulting two-qubit state is $|\\psi_{1}\\rangle \\otimes |\\psi_{2}\\rangle = |\\psi_1, \\psi_2\\rangle = |0,1\\rangle \\equiv |01\\rangle$ (We usually omit the comma in binary notation). The two-qubit operator is $O_{1} \\otimes O_{2} = X\\otimes I$. \n",
    "\n",
    "To verify this, we will `evolve()` the single-qubit states using the single-qubit operators first, then take their tensor product and check if this is equal to the result of using `evolve()` on the two-qubit state using the two-qubit operator.\n"
   ]
  },
  {
   "cell_type": "code",
   "execution_count": 29,
   "metadata": {},
   "outputs": [],
   "source": [
    "q1_sv_1 = q1_sv.evolve(op1)\n",
    "q2_sv_1 = q2_sv.evolve(op2)\n",
    "prod_sv_1 = q1_sv_1.tensor(q2_sv_1)"
   ]
  },
  {
   "cell_type": "code",
   "execution_count": 60,
   "metadata": {},
   "outputs": [
    {
     "data": {
      "text/plain": [
       "True"
      ]
     },
     "execution_count": 60,
     "metadata": {},
     "output_type": "execute_result"
    }
   ],
   "source": [
    "prod_sv2_1 = prod_sv2.evolve(prod_op2)\n",
    "\n",
    "prod_sv_1.equiv(prod_sv2_1)"
   ]
  },
  {
   "cell_type": "markdown",
   "metadata": {},
   "source": [
    "## Quantum circuits for multiple qubits\n",
    "Quantum circuits behave similarly for multiple qubits as they do for a single qubit. We create a ciruit with a certain number of qubits (given as argument to the `QuantumCircuit()` constructer) and then add operations/gates to the appropriate qubits. "
   ]
  },
  {
   "cell_type": "code",
   "execution_count": 32,
   "metadata": {},
   "outputs": [
    {
     "data": {
      "image/png": "[encoded data removed]",
      "text/plain": [
       "<Figure size 200.832x144.48 with 1 Axes>"
      ]
     },
     "execution_count": 32,
     "metadata": {},
     "output_type": "execute_result"
    }
   ],
   "source": [
    "qc = QuantumCircuit(2)\n",
    "# All qubits start in the |0> state\n",
    "qc.x(0)\n",
    "qc.draw(output='mpl')\n",
    "# qc.measure(0,0) # First argument is the qubit to be measured"
   ]
  },
  {
   "cell_type": "markdown",
   "metadata": {},
   "source": [
    "We can create an `Operator` from this circuit to check the matrix corresponding to the operation. "
   ]
  },
  {
   "cell_type": "code",
   "execution_count": 33,
   "metadata": {},
   "outputs": [
    {
     "name": "stdout",
     "output_type": "stream",
     "text": [
      "[[0.+0.j 1.+0.j 0.+0.j 0.+0.j]\n",
      " [1.+0.j 0.+0.j 0.+0.j 0.+0.j]\n",
      " [0.+0.j 0.+0.j 0.+0.j 1.+0.j]\n",
      " [0.+0.j 0.+0.j 1.+0.j 0.+0.j]]\n"
     ]
    }
   ],
   "source": [
    "print(Operator(qc).data)"
   ]
  },
  {
   "cell_type": "code",
   "execution_count": 34,
   "metadata": {},
   "outputs": [
    {
     "data": {
      "text/plain": [
       "False"
      ]
     },
     "execution_count": 34,
     "metadata": {},
     "output_type": "execute_result"
    }
   ],
   "source": [
    "Operator(qc).equiv(prod_op2)"
   ]
  },
  {
   "cell_type": "markdown",
   "metadata": {},
   "source": [
    "###  Endianness in qiskit\n",
    "Now that we have started considering multiple quantum registers or qubits, there is the important matter or ordering. The results of measurement for a multi-qubit circuit will be a binary string, and so the ordering of bits is important. This is commonly referred to in computing as [endianness](https://en.wikipedia.org/wiki/Endianness). \n",
    "\n",
    "For our purposes, little endian (LE) means that the least-significant bit (LSB), denoted here by the smallest subscript, is written last. An $n$-qubit product state written in the little endian format would read $|q_{n-1}, q_{n-2}, \\cdots, q_{2}, q_{1}, q_{0}\\rangle$. **This is the convention qiskit uses by default**.\n",
    "\n",
    "Big endian (BE) means that the most-significant bit (MSB) is written last. This is a convention found in most physics literature. The same $n$-qubit product state written in the big endian format would read $| q_{0}, q_{1}, q_{2} \\cdots q_{n-2}, q_{n-1}\\rangle$. We have used this notation in the preceding section, which is why the operator was different in both cases.\n",
    "\n",
    "There is a very simple way to switch between the two representations in qiskit. Every `QuantumCircuit()` has a `reverse_bits()` method that returns a new `QuantumCircuit()` with the order of bits (or qubits) reversed. **Note that this does not change anything in the original circuit**. Since qiskit is LE by default, using this will change it to BE and we should get the same operator as in the previous section. \n"
   ]
  },
  {
   "cell_type": "code",
   "execution_count": 35,
   "metadata": {},
   "outputs": [
    {
     "data": {
      "image/png": "[encoded data removed]",
      "text/plain": [
       "<Figure size 200.832x144.48 with 1 Axes>"
      ]
     },
     "execution_count": 35,
     "metadata": {},
     "output_type": "execute_result"
    }
   ],
   "source": [
    "qc_rev = qc.reverse_bits()\n",
    "qc_rev.draw(output='mpl')"
   ]
  },
  {
   "cell_type": "code",
   "execution_count": 36,
   "metadata": {},
   "outputs": [
    {
     "name": "stdout",
     "output_type": "stream",
     "text": [
      "[[0.+0.j 0.+0.j 1.+0.j 0.+0.j]\n",
      " [0.+0.j 0.+0.j 0.+0.j 1.+0.j]\n",
      " [1.+0.j 0.+0.j 0.+0.j 0.+0.j]\n",
      " [0.+0.j 1.+0.j 0.+0.j 0.+0.j]]\n"
     ]
    }
   ],
   "source": [
    "print(Operator(qc_rev).data)"
   ]
  },
  {
   "cell_type": "code",
   "execution_count": 37,
   "metadata": {},
   "outputs": [
    {
     "data": {
      "text/plain": [
       "True"
      ]
     },
     "execution_count": 37,
     "metadata": {},
     "output_type": "execute_result"
    }
   ],
   "source": [
    "Operator(qc_rev).equiv(prod_op2)"
   ]
  },
  {
   "cell_type": "markdown",
   "metadata": {},
   "source": [
    "## Experiments with multi-qubit circuits"
   ]
  },
  {
   "cell_type": "code",
   "execution_count": 56,
   "metadata": {},
   "outputs": [
    {
     "data": {
      "image/png": "[encoded data removed]",
      "text/plain": [
       "<Figure size 411.859x204.68 with 1 Axes>"
      ]
     },
     "execution_count": 56,
     "metadata": {},
     "output_type": "execute_result"
    }
   ],
   "source": [
    "qc2 = QuantumCircuit(2)\n",
    "# qc2.h(0)\n",
    "qc2.x(0)\n",
    "qc2.measure_all()\n",
    "qc2.draw(output='mpl')"
   ]
  },
  {
   "cell_type": "code",
   "execution_count": 57,
   "metadata": {},
   "outputs": [
    {
     "data": {
      "text/plain": [
       "{'01': 8192}"
      ]
     },
     "execution_count": 57,
     "metadata": {},
     "output_type": "execute_result"
    }
   ],
   "source": [
    "job = execute(qc2, backend=QasmSimulator(), shots=8192)\n",
    "result = job.result()\n",
    "result.get_counts()"
   ]
  },
  {
   "cell_type": "code",
   "execution_count": 58,
   "metadata": {},
   "outputs": [
    {
     "data": {
      "image/png": "[encoded data removed]",
      "text/plain": [
       "<Figure size 411.859x204.68 with 1 Axes>"
      ]
     },
     "execution_count": 58,
     "metadata": {},
     "output_type": "execute_result"
    }
   ],
   "source": [
    "qc2_rev = qc2.reverse_bits()\n",
    "qc2_rev.draw(output='mpl')"
   ]
  },
  {
   "cell_type": "code",
   "execution_count": 59,
   "metadata": {},
   "outputs": [
    {
     "data": {
      "text/plain": [
       "{'10': 8192}"
      ]
     },
     "execution_count": 59,
     "metadata": {},
     "output_type": "execute_result"
    }
   ],
   "source": [
    "job = execute(qc2_rev, backend=QasmSimulator(), shots=8192)\n",
    "result = job.result()\n",
    "result.get_counts()"
   ]
  },
  {
   "cell_type": "markdown",
   "metadata": {},
   "source": [
    "We will specify the endianness of the problem for any programming assignments henceforth."
   ]
  },
  {
   "cell_type": "code",
   "execution_count": null,
   "metadata": {},
   "outputs": [],
   "source": []
  }
 ],
 "metadata": {
  "kernelspec": {
   "display_name": "Python 3",
   "language": "python",
   "name": "python3"
  },
  "language_info": {
   "codemirror_mode": {
    "name": "ipython",
    "version": 3
   },
   "file_extension": ".py",
   "mimetype": "text/x-python",
   "name": "python",
   "nbconvert_exporter": "python",
   "pygments_lexer": "ipython3",
   "version": "3.8.3"
  }
 },
 "nbformat": 4,
 "nbformat_minor": 4
}
