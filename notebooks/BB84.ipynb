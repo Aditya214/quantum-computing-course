{
 "cells": [
  {
   "cell_type": "markdown",
   "metadata": {
    "colab_type": "text",
    "id": "XcaDuzXbl_mL"
   },
   "source": [
    "# BB84 Quantum Key Distribution (QKD) Protocol\n",
    "\n",
    "This notebook is a _demonstration_ of the BB84 Protocol for QKD using Qiskit. \n",
    "BB84 is a quantum key distribution scheme developed by Charles Bennett and Gilles Brassard in 1984 ([paper]).\n",
    "The first three sections of the paper are readable and should give you all the necessary information required. \n",
    "\n",
    "[paper]: http://researcher.watson.ibm.com/researcher/files/us-bennetc/BB84highest.pdf \n"
   ]
  },
  {
   "cell_type": "code",
   "execution_count": 2,
   "metadata": {
    "colab": {},
    "colab_type": "code",
    "id": "48Nq5dTpVtjb"
   },
   "outputs": [],
   "source": [
    "%matplotlib inline\n",
    "import numpy as np\n",
    "import matplotlib.pyplot as plt\n",
    "# Importing standard Qiskit libraries\n",
    "from qiskit import QuantumCircuit, execute\n",
    "from qiskit.providers.aer import QasmSimulator\n",
    "from qiskit.visualization import *"
   ]
  },
  {
   "cell_type": "markdown",
   "metadata": {
    "colab_type": "text",
    "id": "W_VfWIExmzbR"
   },
   "source": [
    "## Choosing bases and encoding states\n",
    "\n",
    "Alice generates two binary strings. One encodes the basis for each qubit:\n",
    "\n",
    "$0 \\rightarrow$ Computational basis\n",
    "\n",
    "$1  \\rightarrow$ Hadamard basis\n",
    "\n",
    "The other encodes the state:\n",
    "\n",
    "$0  \\rightarrow|0\\rangle$ or $|+\\rangle $ \n",
    "\n",
    "$1  \\rightarrow|1\\rangle$  or  $|-\\rangle $ \n",
    "\n",
    "Bob also generates a binary string and uses the same convention to choose a basis for measurement\n"
   ]
  },
  {
   "cell_type": "code",
   "execution_count": 3,
   "metadata": {
    "colab": {},
    "colab_type": "code",
    "id": "0HEKqtaZVwWv"
   },
   "outputs": [
    {
     "name": "stdout",
     "output_type": "stream",
     "text": [
      "[0 0 1 0 1 0 0 0 1 1 1 1 0 0 0 0 1 0 0 1 1 1 0 1 1 1 0 1 0 1 1 0]\n",
      "[0 1 0 0 0 1 0 0 0 0 1 1 1 1 1 0 1 0 1 1 0 0 1 0 0 1 1 0 0 1 1 1]\n",
      "[0 0 0 1 1 1 0 0 1 0 1 0 0 1 1 0 0 0 1 1 0 1 1 1 1 0 0 0 1 1 0 1]\n"
     ]
    }
   ],
   "source": [
    "num_qubits = 32 \n",
    "\n",
    "\n",
    "alice_basis = np.random.randint(2, size=num_qubits)\n",
    "alice_state = np.random.randint(2, size=num_qubits)\n",
    "bob_basis = np.random.randint(2, size=num_qubits)\n",
    "\n",
    "\n",
    "print(alice_state)\n",
    "print(alice_basis)\n",
    "print(bob_basis)"
   ]
  },
  {
   "cell_type": "markdown",
   "metadata": {
    "colab_type": "text",
    "id": "pS2PFgpzq63z"
   },
   "source": [
    "## Creating the circuit\n",
    "\n",
    "Based on the following results:\n",
    "\n",
    "$X|0\\rangle = |1\\rangle$\n",
    "\n",
    "$H|0\\rangle = |+\\rangle$\n",
    "\n",
    "$ HX|0\\rangle = |-\\rangle$\n",
    "\n",
    "Our algorithm to construct the circuit is as follows:\n",
    "\n",
    "1. Whenever Alice wants to encode 1 in a qubit, she applies an $X$ gate to the qubit. To encode 0, no action is needed.\n",
    "2. Wherever she wants to encode it in the Hadamard basis, she applies an $H$ gate. No action is necessary to encode a qubit in the computational basis.\n",
    "\n",
    "3. She then _sends_ the qubits to Bob (symbolically represented in this circuit using wires)\n",
    "\n",
    "4. Bob measures the qubits according to his binary string. To measure a qubit in the Hadamard basis, he applies an $H$ gate to the corresponding qubit and then performs a mesurement on the computational basis. \n",
    "\n"
   ]
  },
  {
   "cell_type": "code",
   "execution_count": 21,
   "metadata": {
    "colab": {},
    "colab_type": "code",
    "id": "rzMnBoG3ZBQc"
   },
   "outputs": [],
   "source": [
    "bb84_circ = QuantumCircuit(num_qubits)\n",
    "\n",
    "# Alice prepares her qubits\n",
    "for index in range(len(alice_basis)):\n",
    "    if alice_state[index] == 1:\n",
    "        bb84_circ.x(index)\n",
    "    if alice_basis[index] == 1:\n",
    "        bb84_circ.h(index)\n",
    "bb84_circ.barrier()  \n",
    "\n",
    "# Bob measures the received qubits\n",
    "for index in range(len(bob_basis)):\n",
    "    if bob_basis[index] == 1:\n",
    "        bb84_circ.h(index)\n",
    "        \n",
    "bb84_circ.barrier()        \n",
    "bb84_circ.measure_all()\n",
    "    \n",
    "            \n",
    "# bb84_circ.draw('mpl')\n"
   ]
  },
  {
   "cell_type": "markdown",
   "metadata": {
    "colab_type": "text",
    "id": "DXypnuFRv5Z2"
   },
   "source": [
    "## Performing the actual experiment\n",
    "\n",
    "Now we will run this simulation experiment on the `QasmSimulator()` backend."
   ]
  },
  {
   "cell_type": "code",
   "execution_count": 20,
   "metadata": {
    "colab": {},
    "colab_type": "code",
    "id": "p5BGfk0gOP5y"
   },
   "outputs": [
    {
     "name": "stdout",
     "output_type": "stream",
     "text": [
      "00101000011000000001110011111100\n",
      "00101000011010001001110010110110\n",
      "00101000011010001001110100110100\n",
      "00110000111000001001110101010110\n",
      "00111000011010000001100001111110\n",
      "00111000011100001001110101010110\n",
      "00111000111000001001110011111100\n",
      "01101000011110000001110111111110\n",
      "01111000111010000001110110010100\n"
     ]
    }
   ],
   "source": [
    "job = execute(bb84_circ.reverse_bits(),backend=QasmSimulator(),shots=10)\n",
    "counts = job.result().get_counts()\n",
    "\n",
    "# Prints out all the measured binary strings by Bob (reversed)\n",
    "for count in [*counts]:\n",
    "    print(count) "
   ]
  },
  {
   "cell_type": "markdown",
   "metadata": {
    "colab_type": "text",
    "id": "0nnU125A1f_y"
   },
   "source": [
    "## Creating the key\n",
    "\n",
    "Alice and Bob only keep the bits where their bases match"
   ]
  },
  {
   "cell_type": "code",
   "execution_count": 15,
   "metadata": {
    "colab": {},
    "colab_type": "code",
    "id": "Sq2VoUgFSxgg"
   },
   "outputs": [],
   "source": [
    "keys = []\n",
    "for temp_key in [*counts]:\n",
    "    key = ''\n",
    "    for i in range(num_qubits):\n",
    "        if alice_basis[i] == bob_basis[i]: # Only choose bits where Alice and Bob chose the same basis\n",
    "             key += str(temp_key[i])\n",
    "    keys.append(key)\n",
    "#     print(key)"
   ]
  },
  {
   "cell_type": "markdown",
   "metadata": {
    "colab_type": "text",
    "id": "zOpWqZ9m1rgP"
   },
   "source": [
    "Let us look at the length of the key"
   ]
  },
  {
   "cell_type": "code",
   "execution_count": 16,
   "metadata": {
    "colab": {},
    "colab_type": "code",
    "id": "qs8_2ESBoc2w"
   },
   "outputs": [
    {
     "name": "stdout",
     "output_type": "stream",
     "text": [
      "18\n"
     ]
    }
   ],
   "source": [
    "print(len(keys[0]))"
   ]
  },
  {
   "cell_type": "code",
   "execution_count": 17,
   "metadata": {},
   "outputs": [
    {
     "name": "stdout",
     "output_type": "stream",
     "text": [
      "010001100000110110\n",
      "010001100000110110\n",
      "010001100000110110\n",
      "010001100000110110\n",
      "010001100000110110\n",
      "010001100000110110\n",
      "010001100000110110\n",
      "010001100000110110\n",
      "010001100000110110\n",
      "010001100000110110\n"
     ]
    }
   ],
   "source": [
    "for key in keys:\n",
    "    print(key)"
   ]
  }
 ],
 "metadata": {
  "colab": {
   "collapsed_sections": [],
   "name": "BB84.ipynb",
   "provenance": [],
   "version": "0.3.2"
  },
  "kernelspec": {
   "display_name": "Python 3",
   "language": "python",
   "name": "python3"
  },
  "language_info": {
   "codemirror_mode": {
    "name": "ipython",
    "version": 3
   },
   "file_extension": ".py",
   "mimetype": "text/x-python",
   "name": "python",
   "nbconvert_exporter": "python",
   "pygments_lexer": "ipython3",
   "version": "3.8.3"
  }
 },
 "nbformat": 4,
 "nbformat_minor": 4
}
